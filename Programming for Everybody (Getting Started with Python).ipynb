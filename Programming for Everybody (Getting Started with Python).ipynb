{
 "cells": [
  {
   "cell_type": "code",
   "execution_count": 1,
   "id": "3f9475be-1fa4-444c-9f3f-3d8a929d5dea",
   "metadata": {},
   "outputs": [
    {
     "name": "stdin",
     "output_type": "stream",
     "text": [
      "Enter a number:  500\n",
      "Enter a number:  10\n",
      "Enter a number:  50000\n",
      "Enter a number:  100\n",
      "Enter a number:  4565\n",
      "Enter a number:  23131\n",
      "Enter a number:  021\n",
      "Enter a number:  001\n",
      "Enter a number:  done\n"
     ]
    },
    {
     "name": "stdout",
     "output_type": "stream",
     "text": [
      "Maximum is 50000\n",
      "Minimum is 1\n"
     ]
    }
   ],
   "source": [
    "#5.2 Write a program that repeatedly prompts a user for integer numbers until the user enters 'done'.\n",
    "#Once 'done' is entered, print out the largest and smallest of the numbers.\n",
    "#If the user enters anything other than a valid number catch it with a try/except\n",
    "#and put out an appropriate message and ignore the number.\n",
    "#Enter 7, 2, bob, 10, and 4 and match the output below.\n",
    "#Invalid input\n",
    "#Maximum is 10\n",
    "#Minimum is 2\n",
    "    #elif num != int or float : break\n",
    "    #print(\"Enter number, not a word!\")\n",
    "\n",
    "largest = None\n",
    "smallest = None\n",
    "while True:\n",
    "    num = input(\"Enter a number: \")\n",
    "    if num == 'done' :\n",
    "        break\n",
    "    try:\n",
    "        numint = int(num)\n",
    "        if smallest is None :\n",
    "            smallest = numint\n",
    "        elif numint < smallest :\n",
    "            smallest = numint\n",
    "        if largest is None :\n",
    "            largest = numint\n",
    "        elif numint > largest :\n",
    "            largest = numint\n",
    "    except:\n",
    "         print(\"Invalid input\")\n",
    "    continue\n",
    "print(\"Maximum is\", largest)\n",
    "print(\"Minimum is\", smallest)"
   ]
  },
  {
   "cell_type": "code",
   "execution_count": null,
   "id": "b96941da-abc3-4da4-93e8-ff270c837a14",
   "metadata": {},
   "outputs": [],
   "source": []
  }
 ],
 "metadata": {
  "kernelspec": {
   "display_name": "Python 3 (ipykernel)",
   "language": "python",
   "name": "python3"
  },
  "language_info": {
   "codemirror_mode": {
    "name": "ipython",
    "version": 3
   },
   "file_extension": ".py",
   "mimetype": "text/x-python",
   "name": "python",
   "nbconvert_exporter": "python",
   "pygments_lexer": "ipython3",
   "version": "3.11.7"
  }
 },
 "nbformat": 4,
 "nbformat_minor": 5
}
